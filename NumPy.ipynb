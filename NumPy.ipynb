{
 "cells": [
  {
   "cell_type": "code",
   "execution_count": 3,
   "id": "15be4eef-d7e6-4041-96c5-011a8b30832a",
   "metadata": {},
   "outputs": [
    {
     "name": "stdout",
     "output_type": "stream",
     "text": [
      "Requirement already satisfied: numpy in c:\\users\\mishr\\anaconda3\\lib\\site-packages (1.26.4)\n"
     ]
    }
   ],
   "source": [
    "!pip3 install numpy"
   ]
  },
  {
   "cell_type": "markdown",
   "id": "1836874c-93c0-4e07-9571-4012893ec557",
   "metadata": {},
   "source": [
    "## We are going to learn numpy now!"
   ]
  },
  {
   "cell_type": "markdown",
   "id": "1c4fc286-c7fd-4dc6-9674-2b5acd82815f",
   "metadata": {},
   "source": [
    "### NumPy is a general-purpose array processing package. It provides a high-performance multidimensional array object and\n",
    "### tools for working with these arrays.\n",
    "\n",
    "### It is the fundamental package for scientific computing with Python. It contains among other things:\n",
    "    - a powerful N-dimensional array object.\n",
    "    - sophisticated functions.\n",
    "    - tools for integrating C/C++ and Fortran code.\n",
    "    - useful linear algebra, Fourier Transform and random number capabilities.\n",
    "\n",
    "### NumPy can also be used for efficient multi-dimensional containers of generic data. Arbitrary data types can be defined. This allows NumPy to seamlessly and speedily integrate with a wide variety of databases."
   ]
  },
  {
   "cell_type": "code",
   "execution_count": 10,
   "id": "f21ae411-c707-4939-9350-777b735e87dd",
   "metadata": {},
   "outputs": [],
   "source": [
    "import numpy as np"
   ]
  },
  {
   "cell_type": "code",
   "execution_count": 33,
   "id": "76acce09-b801-45f8-8f21-472bde0c9c44",
   "metadata": {},
   "outputs": [],
   "source": [
    "arr = np.array([[1, 2, 3],\n",
    "                [4, 2, 5]]) #numpy array has significance over simple python array"
   ]
  },
  {
   "cell_type": "code",
   "execution_count": 37,
   "id": "4fff034f-a9a0-4f62-8433-95af6183b00e",
   "metadata": {},
   "outputs": [
    {
     "data": {
      "text/plain": [
       "array([[1, 2, 3],\n",
       "       [4, 2, 5]])"
      ]
     },
     "execution_count": 37,
     "metadata": {},
     "output_type": "execute_result"
    }
   ],
   "source": [
    "arr"
   ]
  },
  {
   "cell_type": "code",
   "execution_count": 14,
   "id": "65342261-6cd0-4a65-8680-467b0677c822",
   "metadata": {},
   "outputs": [
    {
     "data": {
      "text/plain": [
       "numpy.ndarray"
      ]
     },
     "execution_count": 14,
     "metadata": {},
     "output_type": "execute_result"
    }
   ],
   "source": [
    "type(arr)"
   ]
  },
  {
   "cell_type": "markdown",
   "id": "65acea9a-8c47-4f24-8e32-dd75644b475b",
   "metadata": {},
   "source": [
    "### This array has:\n",
    "- rank = 2 (as it is 2-D)\n",
    "- first dimensional length = 2, second dimensional has length = 3.\n",
    "- overall shape can be expressed as : (2,3)"
   ]
  },
  {
   "cell_type": "code",
   "execution_count": 17,
   "id": "bfb59f7d-a30d-4fd1-96b4-64521f35e57e",
   "metadata": {},
   "outputs": [
    {
     "data": {
      "text/plain": [
       "2"
      ]
     },
     "execution_count": 17,
     "metadata": {},
     "output_type": "execute_result"
    }
   ],
   "source": [
    "arr.ndim #Dimension"
   ]
  },
  {
   "cell_type": "code",
   "execution_count": 19,
   "id": "8195a904-aaf5-4647-a97a-0ec64c61f24c",
   "metadata": {},
   "outputs": [
    {
     "data": {
      "text/plain": [
       "(2, 3)"
      ]
     },
     "execution_count": 19,
     "metadata": {},
     "output_type": "execute_result"
    }
   ],
   "source": [
    "arr.shape #shows (row,col) of array"
   ]
  },
  {
   "cell_type": "code",
   "execution_count": 21,
   "id": "ee84efb0-77b8-49e3-b4c8-561cec67f0d9",
   "metadata": {},
   "outputs": [
    {
     "data": {
      "text/plain": [
       "6"
      ]
     },
     "execution_count": 21,
     "metadata": {},
     "output_type": "execute_result"
    }
   ],
   "source": [
    "arr.size"
   ]
  },
  {
   "cell_type": "code",
   "execution_count": 23,
   "id": "e68e4ae3-a7e5-45d6-9aba-35482ec7ab39",
   "metadata": {},
   "outputs": [],
   "source": [
    "arr1 = np.array([1,2,3])"
   ]
  },
  {
   "cell_type": "code",
   "execution_count": 27,
   "id": "af274451-c69a-4a50-8db9-79feb3613db6",
   "metadata": {},
   "outputs": [
    {
     "data": {
      "text/plain": [
       "(3,)"
      ]
     },
     "execution_count": 27,
     "metadata": {},
     "output_type": "execute_result"
    }
   ],
   "source": [
    "arr1.shape"
   ]
  },
  {
   "cell_type": "code",
   "execution_count": 29,
   "id": "1c94f4e5-59c6-40d1-80da-b7bce33291ed",
   "metadata": {},
   "outputs": [],
   "source": [
    "# (3,) denotes that array is 1-D and column size is 3"
   ]
  },
  {
   "cell_type": "code",
   "execution_count": 35,
   "id": "94fb2692-96a7-4328-913b-d9b95a79f0a7",
   "metadata": {},
   "outputs": [
    {
     "data": {
      "text/plain": [
       "dtype('int32')"
      ]
     },
     "execution_count": 35,
     "metadata": {},
     "output_type": "execute_result"
    }
   ],
   "source": [
    "arr.dtype #datatype of elements in array"
   ]
  },
  {
   "cell_type": "code",
   "execution_count": 39,
   "id": "48b8d7f6-ba35-4935-8e56-7b6e4c194894",
   "metadata": {},
   "outputs": [
    {
     "name": "stdout",
     "output_type": "stream",
     "text": [
      "Array created using passed list:\n",
      " [[1. 2. 3.]\n",
      " [5. 8. 7.]]\n"
     ]
    }
   ],
   "source": [
    "# creating array from list with type float\n",
    "a = np.array([[1, 2, 3], [5, 8, 7]], dtype = 'float')\n",
    "print(\"Array created using passed list:\\n\", a)"
   ]
  },
  {
   "cell_type": "code",
   "execution_count": 57,
   "id": "3832a98e-9bb3-4d02-a8b9-aa1b76194bd6",
   "metadata": {},
   "outputs": [
    {
     "name": "stdout",
     "output_type": "stream",
     "text": [
      "\n",
      "Array created using passed tuple:\n",
      " [[1 2 3]\n",
      " [4 5 6]]\n"
     ]
    }
   ],
   "source": [
    "# creating array from tuple\n",
    "b = np.array(((1,2,3), (4,5,6)))\n",
    "print(\"\\nArray created using passed tuple:\\n\", b)"
   ]
  },
  {
   "cell_type": "code",
   "execution_count": 49,
   "id": "27796273-44e4-434f-ae4d-3ddaa42b192a",
   "metadata": {},
   "outputs": [],
   "source": [
    "# null matrix\n",
    "c = np.zeros((3,4))"
   ]
  },
  {
   "cell_type": "code",
   "execution_count": 53,
   "id": "b2d3c295-2a3e-4247-ad6c-40bcc73e6420",
   "metadata": {},
   "outputs": [
    {
     "data": {
      "text/plain": [
       "array([[0., 0., 0., 0.],\n",
       "       [0., 0., 0., 0.],\n",
       "       [0., 0., 0., 0.]])"
      ]
     },
     "execution_count": 53,
     "metadata": {},
     "output_type": "execute_result"
    }
   ],
   "source": [
    "c"
   ]
  },
  {
   "cell_type": "code",
   "execution_count": 59,
   "id": "e5bcaca5-de58-4a6c-8871-368b08f8bee0",
   "metadata": {},
   "outputs": [
    {
     "data": {
      "text/plain": [
       "array([[1., 1., 1., 1.],\n",
       "       [1., 1., 1., 1.],\n",
       "       [1., 1., 1., 1.]])"
      ]
     },
     "execution_count": 59,
     "metadata": {},
     "output_type": "execute_result"
    }
   ],
   "source": [
    "np.ones((3,4))"
   ]
  },
  {
   "cell_type": "code",
   "execution_count": 61,
   "id": "1c86fb36-90c3-46d1-99e5-6ce48a33ea14",
   "metadata": {},
   "outputs": [
    {
     "data": {
      "text/plain": [
       "array([[1., 0., 0.],\n",
       "       [0., 1., 0.],\n",
       "       [0., 0., 1.]])"
      ]
     },
     "execution_count": 61,
     "metadata": {},
     "output_type": "execute_result"
    }
   ],
   "source": [
    "np.eye(3) #identity matrix"
   ]
  },
  {
   "cell_type": "code",
   "execution_count": 65,
   "id": "112bfdf8-c42f-4574-8466-533f93887b7a",
   "metadata": {},
   "outputs": [
    {
     "data": {
      "text/plain": [
       "\u001b[1;31mDocstring:\u001b[0m\n",
       "arange([start,] stop[, step,], dtype=None, *, like=None)\n",
       "\n",
       "Return evenly spaced values within a given interval.\n",
       "\n",
       "``arange`` can be called with a varying number of positional arguments:\n",
       "\n",
       "* ``arange(stop)``: Values are generated within the half-open interval\n",
       "  ``[0, stop)`` (in other words, the interval including `start` but\n",
       "  excluding `stop`).\n",
       "* ``arange(start, stop)``: Values are generated within the half-open\n",
       "  interval ``[start, stop)``.\n",
       "* ``arange(start, stop, step)`` Values are generated within the half-open\n",
       "  interval ``[start, stop)``, with spacing between values given by\n",
       "  ``step``.\n",
       "\n",
       "For integer arguments the function is roughly equivalent to the Python\n",
       "built-in :py:class:`range`, but returns an ndarray rather than a ``range``\n",
       "instance.\n",
       "\n",
       "When using a non-integer step, such as 0.1, it is often better to use\n",
       "`numpy.linspace`.\n",
       "\n",
       "See the Warning sections below for more information.\n",
       "\n",
       "Parameters\n",
       "----------\n",
       "start : integer or real, optional\n",
       "    Start of interval.  The interval includes this value.  The default\n",
       "    start value is 0.\n",
       "stop : integer or real\n",
       "    End of interval.  The interval does not include this value, except\n",
       "    in some cases where `step` is not an integer and floating point\n",
       "    round-off affects the length of `out`.\n",
       "step : integer or real, optional\n",
       "    Spacing between values.  For any output `out`, this is the distance\n",
       "    between two adjacent values, ``out[i+1] - out[i]``.  The default\n",
       "    step size is 1.  If `step` is specified as a position argument,\n",
       "    `start` must also be given.\n",
       "dtype : dtype, optional\n",
       "    The type of the output array.  If `dtype` is not given, infer the data\n",
       "    type from the other input arguments.\n",
       "like : array_like, optional\n",
       "    Reference object to allow the creation of arrays which are not\n",
       "    NumPy arrays. If an array-like passed in as ``like`` supports\n",
       "    the ``__array_function__`` protocol, the result will be defined\n",
       "    by it. In this case, it ensures the creation of an array object\n",
       "    compatible with that passed in via this argument.\n",
       "\n",
       "    .. versionadded:: 1.20.0\n",
       "\n",
       "Returns\n",
       "-------\n",
       "arange : ndarray\n",
       "    Array of evenly spaced values.\n",
       "\n",
       "    For floating point arguments, the length of the result is\n",
       "    ``ceil((stop - start)/step)``.  Because of floating point overflow,\n",
       "    this rule may result in the last element of `out` being greater\n",
       "    than `stop`.\n",
       "\n",
       "Warnings\n",
       "--------\n",
       "The length of the output might not be numerically stable.\n",
       "\n",
       "Another stability issue is due to the internal implementation of\n",
       "`numpy.arange`.\n",
       "The actual step value used to populate the array is\n",
       "``dtype(start + step) - dtype(start)`` and not `step`. Precision loss\n",
       "can occur here, due to casting or due to using floating points when\n",
       "`start` is much larger than `step`. This can lead to unexpected\n",
       "behaviour. For example::\n",
       "\n",
       "  >>> np.arange(0, 5, 0.5, dtype=int)\n",
       "  array([0, 0, 0, 0, 0, 0, 0, 0, 0, 0])\n",
       "  >>> np.arange(-3, 3, 0.5, dtype=int)\n",
       "  array([-3, -2, -1,  0,  1,  2,  3,  4,  5,  6,  7,  8])\n",
       "\n",
       "In such cases, the use of `numpy.linspace` should be preferred.\n",
       "\n",
       "The built-in :py:class:`range` generates :std:doc:`Python built-in integers\n",
       "that have arbitrary size <python:c-api/long>`, while `numpy.arange`\n",
       "produces `numpy.int32` or `numpy.int64` numbers. This may result in\n",
       "incorrect results for large integer values::\n",
       "\n",
       "  >>> power = 40\n",
       "  >>> modulo = 10000\n",
       "  >>> x1 = [(n ** power) % modulo for n in range(8)]\n",
       "  >>> x2 = [(n ** power) % modulo for n in np.arange(8)]\n",
       "  >>> print(x1)\n",
       "  [0, 1, 7776, 8801, 6176, 625, 6576, 4001]  # correct\n",
       "  >>> print(x2)\n",
       "  [0, 1, 7776, 7185, 0, 5969, 4816, 3361]  # incorrect\n",
       "\n",
       "See Also\n",
       "--------\n",
       "numpy.linspace : Evenly spaced numbers with careful handling of endpoints.\n",
       "numpy.ogrid: Arrays of evenly spaced numbers in N-dimensions.\n",
       "numpy.mgrid: Grid-shaped arrays of evenly spaced numbers in N-dimensions.\n",
       ":ref:`how-to-partition`\n",
       "\n",
       "Examples\n",
       "--------\n",
       ">>> np.arange(3)\n",
       "array([0, 1, 2])\n",
       ">>> np.arange(3.0)\n",
       "array([ 0.,  1.,  2.])\n",
       ">>> np.arange(3,7)\n",
       "array([3, 4, 5, 6])\n",
       ">>> np.arange(3,7,2)\n",
       "array([3, 5])\n",
       "\u001b[1;31mType:\u001b[0m      builtin_function_or_method"
      ]
     },
     "metadata": {},
     "output_type": "display_data"
    }
   ],
   "source": [
    "#arange function\n",
    "np.arange?"
   ]
  },
  {
   "cell_type": "code",
   "execution_count": 67,
   "id": "96ea5e0a-7745-42fa-859c-56286a285e84",
   "metadata": {},
   "outputs": [
    {
     "data": {
      "text/plain": [
       "\u001b[1;31mSignature:\u001b[0m      \n",
       "\u001b[0mnp\u001b[0m\u001b[1;33m.\u001b[0m\u001b[0mlinspace\u001b[0m\u001b[1;33m(\u001b[0m\u001b[1;33m\n",
       "\u001b[0m    \u001b[0mstart\u001b[0m\u001b[1;33m,\u001b[0m\u001b[1;33m\n",
       "\u001b[0m    \u001b[0mstop\u001b[0m\u001b[1;33m,\u001b[0m\u001b[1;33m\n",
       "\u001b[0m    \u001b[0mnum\u001b[0m\u001b[1;33m=\u001b[0m\u001b[1;36m50\u001b[0m\u001b[1;33m,\u001b[0m\u001b[1;33m\n",
       "\u001b[0m    \u001b[0mendpoint\u001b[0m\u001b[1;33m=\u001b[0m\u001b[1;32mTrue\u001b[0m\u001b[1;33m,\u001b[0m\u001b[1;33m\n",
       "\u001b[0m    \u001b[0mretstep\u001b[0m\u001b[1;33m=\u001b[0m\u001b[1;32mFalse\u001b[0m\u001b[1;33m,\u001b[0m\u001b[1;33m\n",
       "\u001b[0m    \u001b[0mdtype\u001b[0m\u001b[1;33m=\u001b[0m\u001b[1;32mNone\u001b[0m\u001b[1;33m,\u001b[0m\u001b[1;33m\n",
       "\u001b[0m    \u001b[0maxis\u001b[0m\u001b[1;33m=\u001b[0m\u001b[1;36m0\u001b[0m\u001b[1;33m,\u001b[0m\u001b[1;33m\n",
       "\u001b[0m\u001b[1;33m)\u001b[0m\u001b[1;33m\u001b[0m\u001b[1;33m\u001b[0m\u001b[0m\n",
       "\u001b[1;31mCall signature:\u001b[0m  \u001b[0mnp\u001b[0m\u001b[1;33m.\u001b[0m\u001b[0mlinspace\u001b[0m\u001b[1;33m(\u001b[0m\u001b[1;33m*\u001b[0m\u001b[0margs\u001b[0m\u001b[1;33m,\u001b[0m \u001b[1;33m**\u001b[0m\u001b[0mkwargs\u001b[0m\u001b[1;33m)\u001b[0m\u001b[1;33m\u001b[0m\u001b[1;33m\u001b[0m\u001b[0m\n",
       "\u001b[1;31mType:\u001b[0m            _ArrayFunctionDispatcher\n",
       "\u001b[1;31mString form:\u001b[0m     <function linspace at 0x0000020AE95A7B00>\n",
       "\u001b[1;31mFile:\u001b[0m            c:\\users\\mishr\\anaconda3\\lib\\site-packages\\numpy\\core\\function_base.py\n",
       "\u001b[1;31mDocstring:\u001b[0m      \n",
       "Return evenly spaced numbers over a specified interval.\n",
       "\n",
       "Returns `num` evenly spaced samples, calculated over the\n",
       "interval [`start`, `stop`].\n",
       "\n",
       "The endpoint of the interval can optionally be excluded.\n",
       "\n",
       ".. versionchanged:: 1.16.0\n",
       "    Non-scalar `start` and `stop` are now supported.\n",
       "\n",
       ".. versionchanged:: 1.20.0\n",
       "    Values are rounded towards ``-inf`` instead of ``0`` when an\n",
       "    integer ``dtype`` is specified. The old behavior can\n",
       "    still be obtained with ``np.linspace(start, stop, num).astype(int)``\n",
       "\n",
       "Parameters\n",
       "----------\n",
       "start : array_like\n",
       "    The starting value of the sequence.\n",
       "stop : array_like\n",
       "    The end value of the sequence, unless `endpoint` is set to False.\n",
       "    In that case, the sequence consists of all but the last of ``num + 1``\n",
       "    evenly spaced samples, so that `stop` is excluded.  Note that the step\n",
       "    size changes when `endpoint` is False.\n",
       "num : int, optional\n",
       "    Number of samples to generate. Default is 50. Must be non-negative.\n",
       "endpoint : bool, optional\n",
       "    If True, `stop` is the last sample. Otherwise, it is not included.\n",
       "    Default is True.\n",
       "retstep : bool, optional\n",
       "    If True, return (`samples`, `step`), where `step` is the spacing\n",
       "    between samples.\n",
       "dtype : dtype, optional\n",
       "    The type of the output array.  If `dtype` is not given, the data type\n",
       "    is inferred from `start` and `stop`. The inferred dtype will never be\n",
       "    an integer; `float` is chosen even if the arguments would produce an\n",
       "    array of integers.\n",
       "\n",
       "    .. versionadded:: 1.9.0\n",
       "\n",
       "axis : int, optional\n",
       "    The axis in the result to store the samples.  Relevant only if start\n",
       "    or stop are array-like.  By default (0), the samples will be along a\n",
       "    new axis inserted at the beginning. Use -1 to get an axis at the end.\n",
       "\n",
       "    .. versionadded:: 1.16.0\n",
       "\n",
       "Returns\n",
       "-------\n",
       "samples : ndarray\n",
       "    There are `num` equally spaced samples in the closed interval\n",
       "    ``[start, stop]`` or the half-open interval ``[start, stop)``\n",
       "    (depending on whether `endpoint` is True or False).\n",
       "step : float, optional\n",
       "    Only returned if `retstep` is True\n",
       "\n",
       "    Size of spacing between samples.\n",
       "\n",
       "\n",
       "See Also\n",
       "--------\n",
       "arange : Similar to `linspace`, but uses a step size (instead of the\n",
       "         number of samples).\n",
       "geomspace : Similar to `linspace`, but with numbers spaced evenly on a log\n",
       "            scale (a geometric progression).\n",
       "logspace : Similar to `geomspace`, but with the end points specified as\n",
       "           logarithms.\n",
       ":ref:`how-to-partition`\n",
       "\n",
       "Examples\n",
       "--------\n",
       ">>> np.linspace(2.0, 3.0, num=5)\n",
       "array([2.  , 2.25, 2.5 , 2.75, 3.  ])\n",
       ">>> np.linspace(2.0, 3.0, num=5, endpoint=False)\n",
       "array([2. ,  2.2,  2.4,  2.6,  2.8])\n",
       ">>> np.linspace(2.0, 3.0, num=5, retstep=True)\n",
       "(array([2.  ,  2.25,  2.5 ,  2.75,  3.  ]), 0.25)\n",
       "\n",
       "Graphical illustration:\n",
       "\n",
       ">>> import matplotlib.pyplot as plt\n",
       ">>> N = 8\n",
       ">>> y = np.zeros(N)\n",
       ">>> x1 = np.linspace(0, 10, N, endpoint=True)\n",
       ">>> x2 = np.linspace(0, 10, N, endpoint=False)\n",
       ">>> plt.plot(x1, y, 'o')\n",
       "[<matplotlib.lines.Line2D object at 0x...>]\n",
       ">>> plt.plot(x2, y + 0.5, 'o')\n",
       "[<matplotlib.lines.Line2D object at 0x...>]\n",
       ">>> plt.ylim([-0.5, 1])\n",
       "(-0.5, 1)\n",
       ">>> plt.show()\n",
       "\u001b[1;31mClass docstring:\u001b[0m\n",
       "Class to wrap functions with checks for __array_function__ overrides.\n",
       "\n",
       "All arguments are required, and can only be passed by position.\n",
       "\n",
       "Parameters\n",
       "----------\n",
       "dispatcher : function or None\n",
       "    The dispatcher function that returns a single sequence-like object\n",
       "    of all arguments relevant.  It must have the same signature (except\n",
       "    the default values) as the actual implementation.\n",
       "    If ``None``, this is a ``like=`` dispatcher and the\n",
       "    ``_ArrayFunctionDispatcher`` must be called with ``like`` as the\n",
       "    first (additional and positional) argument.\n",
       "implementation : function\n",
       "    Function that implements the operation on NumPy arrays without\n",
       "    overrides.  Arguments passed calling the ``_ArrayFunctionDispatcher``\n",
       "    will be forwarded to this (and the ``dispatcher``) as if using\n",
       "    ``*args, **kwargs``.\n",
       "\n",
       "Attributes\n",
       "----------\n",
       "_implementation : function\n",
       "    The original implementation passed in."
      ]
     },
     "metadata": {},
     "output_type": "display_data"
    }
   ],
   "source": [
    "# linspace\n",
    "np.linspace?"
   ]
  },
  {
   "cell_type": "code",
   "execution_count": 69,
   "id": "59690501-58ee-4a71-bc01-e74bc1fd5069",
   "metadata": {},
   "outputs": [
    {
     "name": "stdout",
     "output_type": "stream",
     "text": [
      "\n",
      " A sequential array with steps of 5:\n",
      " [ 0  5 10 15 20 25]\n",
      "\n",
      "A sequential array with 10 values between 0 and 5: \n",
      " [0.         0.55555556 1.11111111 1.66666667 2.22222222 2.77777778\n",
      " 3.33333333 3.88888889 4.44444444 5.        ]\n"
     ]
    }
   ],
   "source": [
    "# create a sequence of integers from 0 to 30 with step of 5\n",
    "f = np.arange(0, 30, 5)\n",
    "print(\"\\n A sequential array with steps of 5:\\n\", f)\n",
    "\n",
    "# create a sequence of 10 values in range 0 to 5\n",
    "g = np.linspace(0,5,10)\n",
    "print(\"\\nA sequential array with 10 values between 0 and 5: \\n\", g)"
   ]
  },
  {
   "cell_type": "code",
   "execution_count": 71,
   "id": "31cfc0c7-7d0c-4ca3-bc33-5513282ea38a",
   "metadata": {},
   "outputs": [],
   "source": [
    "# we can deduce that in arange 0 t0 n, n is not inclusive and step size denotes the difference between adjacent numbers\n",
    "# on the other hand in linspace step size is not known but is equally space and in 0 to n, n is inclusive and step size = numbers of values in the list"
   ]
  },
  {
   "cell_type": "code",
   "execution_count": 73,
   "id": "a287941a-5655-4c79-b084-0d1e0fa7d2a7",
   "metadata": {},
   "outputs": [
    {
     "data": {
      "text/plain": [
       "array([[0.74511698, 0.71033913],\n",
       "       [0.27912686, 0.84411297]])"
      ]
     },
     "execution_count": 73,
     "metadata": {},
     "output_type": "execute_result"
    }
   ],
   "source": [
    "np.random.random((2,2)) #generate array of random values"
   ]
  },
  {
   "cell_type": "code",
   "execution_count": 77,
   "id": "ce39c094-87fb-4874-a9d2-e36ded506bb7",
   "metadata": {},
   "outputs": [],
   "source": [
    "arr = np.array([[1,2,3,4],\n",
    "               [5,6,7,8],\n",
    "               [9,10,11,12]])\n",
    "newarr = arr.reshape(2,2,3)"
   ]
  },
  {
   "cell_type": "code",
   "execution_count": 79,
   "id": "b33d6e74-8ecd-45d9-986e-c844a6f46385",
   "metadata": {},
   "outputs": [
    {
     "data": {
      "text/plain": [
       "array([[[ 1,  2,  3],\n",
       "        [ 4,  5,  6]],\n",
       "\n",
       "       [[ 7,  8,  9],\n",
       "        [10, 11, 12]]])"
      ]
     },
     "execution_count": 79,
     "metadata": {},
     "output_type": "execute_result"
    }
   ],
   "source": [
    "newarr"
   ]
  },
  {
   "cell_type": "code",
   "execution_count": 81,
   "id": "606abec7-028e-4cee-bce5-c4d225c02d8c",
   "metadata": {},
   "outputs": [],
   "source": [
    "arr = np.array([[1,2,3,4],\n",
    "               [5,6,7,8],\n",
    "               [9,10,11,12]])\n",
    "newarr = arr.reshape(4,3)"
   ]
  },
  {
   "cell_type": "code",
   "execution_count": 83,
   "id": "6cb97ef6-56cb-4b9e-bb60-ab729d6d97f3",
   "metadata": {},
   "outputs": [
    {
     "data": {
      "text/plain": [
       "array([[ 1,  2,  3],\n",
       "       [ 4,  5,  6],\n",
       "       [ 7,  8,  9],\n",
       "       [10, 11, 12]])"
      ]
     },
     "execution_count": 83,
     "metadata": {},
     "output_type": "execute_result"
    }
   ],
   "source": [
    "newarr\n"
   ]
  },
  {
   "cell_type": "code",
   "execution_count": 85,
   "id": "762849c0-7cbe-4855-ba58-188c539eb4a7",
   "metadata": {},
   "outputs": [],
   "source": [
    "arr = np.array([[1,2,3], [4,5,6]])\n",
    "flarr = arr.flatten()"
   ]
  },
  {
   "cell_type": "code",
   "execution_count": 87,
   "id": "f56adfa4-de42-4969-a97d-4f994b87e3dc",
   "metadata": {},
   "outputs": [
    {
     "data": {
      "text/plain": [
       "array([[1, 2, 3],\n",
       "       [4, 5, 6]])"
      ]
     },
     "execution_count": 87,
     "metadata": {},
     "output_type": "execute_result"
    }
   ],
   "source": [
    "arr"
   ]
  },
  {
   "cell_type": "code",
   "execution_count": 89,
   "id": "6d5c55c5-e624-4b5f-aced-0ac54648064a",
   "metadata": {},
   "outputs": [
    {
     "data": {
      "text/plain": [
       "array([1, 2, 3, 4, 5, 6])"
      ]
     },
     "execution_count": 89,
     "metadata": {},
     "output_type": "execute_result"
    }
   ],
   "source": [
    "flarr"
   ]
  },
  {
   "cell_type": "markdown",
   "id": "447e3e46-4e70-44dc-9dc7-987d580f9632",
   "metadata": {},
   "source": [
    "# Array Indexing & Slicing\n",
    "-Syntax : arr[row_start : end+1 : step,  col_start : end+1 : step]"
   ]
  },
  {
   "cell_type": "code",
   "execution_count": 133,
   "id": "48acfb37-a205-40ce-bf0b-e7cd988bba6e",
   "metadata": {},
   "outputs": [],
   "source": [
    "arr = np.array([[-1,2,0,4], [4,-0.5,6,0], [2.6,0,7,8], [3,-7,4,2.0]])"
   ]
  },
  {
   "cell_type": "code",
   "execution_count": 125,
   "id": "a4d728e9-7263-43bc-8f0e-cd108aeb32aa",
   "metadata": {},
   "outputs": [
    {
     "data": {
      "text/plain": [
       "array([[-1. ,  2. ,  0. ,  4. ],\n",
       "       [ 4. , -0.5,  6. ,  0. ],\n",
       "       [ 2.6,  0. ,  7. ,  8. ],\n",
       "       [ 3. , -7. ,  4. ,  2. ]])"
      ]
     },
     "execution_count": 125,
     "metadata": {},
     "output_type": "execute_result"
    }
   ],
   "source": [
    "arr"
   ]
  },
  {
   "cell_type": "code",
   "execution_count": 96,
   "id": "6b788d7f-b56b-40f6-ad70-368d46a2223a",
   "metadata": {},
   "outputs": [
    {
     "data": {
      "text/plain": [
       "array([[ 4. , -0.5,  6. ],\n",
       "       [ 2.6,  0. ,  7. ],\n",
       "       [ 3. , -7. ,  4. ]])"
      ]
     },
     "execution_count": 96,
     "metadata": {},
     "output_type": "execute_result"
    }
   ],
   "source": [
    "arr[1:, :3] #indexing"
   ]
  },
  {
   "cell_type": "code",
   "execution_count": 98,
   "id": "e0117a88-3b90-4ac1-8c13-68ab4d9ea20c",
   "metadata": {},
   "outputs": [
    {
     "data": {
      "text/plain": [
       "array([[-1. ,  2. ,  0. ],\n",
       "       [ 4. , -0.5,  6. ],\n",
       "       [ 2.6,  0. ,  7. ]])"
      ]
     },
     "execution_count": 98,
     "metadata": {},
     "output_type": "execute_result"
    }
   ],
   "source": [
    "arr[:3, :3]"
   ]
  },
  {
   "cell_type": "code",
   "execution_count": 100,
   "id": "a3af9a53-2675-4190-a67b-e9e4a692dada",
   "metadata": {},
   "outputs": [
    {
     "data": {
      "text/plain": [
       "array([[-0.5]])"
      ]
     },
     "execution_count": 100,
     "metadata": {},
     "output_type": "execute_result"
    }
   ],
   "source": [
    "arr[1:2, 1:2]"
   ]
  },
  {
   "cell_type": "code",
   "execution_count": 104,
   "id": "eade8f72-48c8-40b4-a4bf-b993d980cc79",
   "metadata": {},
   "outputs": [
    {
     "data": {
      "text/plain": [
       "array([[4. , 6. ],\n",
       "       [2.6, 7. ],\n",
       "       [3. , 4. ]])"
      ]
     },
     "execution_count": 104,
     "metadata": {},
     "output_type": "execute_result"
    }
   ],
   "source": [
    "arr[1:, :3:2] #step size SLICING"
   ]
  },
  {
   "cell_type": "code",
   "execution_count": 106,
   "id": "ce97fe9f-2067-4a11-95b5-ca0642ed7446",
   "metadata": {},
   "outputs": [
    {
     "data": {
      "text/plain": [
       "array([[4., 6.],\n",
       "       [3., 4.]])"
      ]
     },
     "execution_count": 106,
     "metadata": {},
     "output_type": "execute_result"
    }
   ],
   "source": [
    "arr[1::2, :3:2]"
   ]
  },
  {
   "cell_type": "code",
   "execution_count": 137,
   "id": "daf24e69-c286-407e-803f-b279810b0d99",
   "metadata": {},
   "outputs": [
    {
     "name": "stdout",
     "output_type": "stream",
     "text": [
      "\n",
      "Elements at indices (0,3), (1,2), (2,1), (3,0):\n",
      " [4. 6. 0. 3.]\n"
     ]
    }
   ],
   "source": [
    "#integer array indexing\n",
    "temp = arr[[0, 1, 2, 3], [3, 2, 1, 0]]\n",
    "print(\"\\nElements at indices (0,3), (1,2), (2,1), (3,0):\\n\", temp)"
   ]
  },
  {
   "cell_type": "code",
   "execution_count": 139,
   "id": "0c455bf5-6a5d-4ec5-bada-a35477664788",
   "metadata": {},
   "outputs": [
    {
     "name": "stdout",
     "output_type": "stream",
     "text": [
      "[2.  4.  4.  6.  2.6 7.  8.  3.  4.  2. ]\n"
     ]
    }
   ],
   "source": [
    "# boolean array indexing\n",
    "cond = arr>0\n",
    "temp = arr[cond]\n",
    "print(temp)"
   ]
  },
  {
   "cell_type": "markdown",
   "id": "7e2d5a3d-da35-4f71-a5f0-c705ec0eb78c",
   "metadata": {},
   "source": [
    "# Basic Operations\n",
    "    -NumPy offers a BROADCASTING feature that helps in easy array operations\n",
    "    -Every elements of the array is broadcasted and any operation is applied to each element individually"
   ]
  },
  {
   "cell_type": "markdown",
   "id": "a109de10-0a32-4f21-9c71-16eb3191b3b2",
   "metadata": {},
   "source": [
    "# What is NumPy Array Broadcasting?\r\n",
    "Broadcasting provides a means of vectorizing array operations, therefore eliminating the need for Python loops. This is because NumPy is implemented in C Programming, which is a very efficient language.\r\n",
    "\r\n",
    "It does this without making needless copies of data which leads to efficient algorithm implementations. But broadcasting over multiple arrays in NumPy extension can raise cases where broadcasting is a bad idea because it leads to inefficient use of memory that slows down the computation.\r\n",
    "\r\n",
    "The resulting array returned after broadcasting will have the same number of dimensions as the array with the greatest number of dimensions."
   ]
  },
  {
   "cell_type": "code",
   "execution_count": 145,
   "id": "918d6ca9-17fe-4763-ac7e-85f156ff81dd",
   "metadata": {},
   "outputs": [],
   "source": [
    "a = np.array([1,2,5,3])"
   ]
  },
  {
   "cell_type": "code",
   "execution_count": 147,
   "id": "4b274888-61e9-4c3d-b90b-cc31835af0ba",
   "metadata": {},
   "outputs": [
    {
     "data": {
      "text/plain": [
       "array([1, 2, 5, 3])"
      ]
     },
     "execution_count": 147,
     "metadata": {},
     "output_type": "execute_result"
    }
   ],
   "source": [
    "a"
   ]
  },
  {
   "cell_type": "code",
   "execution_count": 149,
   "id": "8c66c910-7948-422d-818a-a48c3aa8f883",
   "metadata": {},
   "outputs": [
    {
     "data": {
      "text/plain": [
       "array([2, 3, 6, 4])"
      ]
     },
     "execution_count": 149,
     "metadata": {},
     "output_type": "execute_result"
    }
   ],
   "source": [
    "a+1 #add 1 to every element"
   ]
  },
  {
   "cell_type": "code",
   "execution_count": 151,
   "id": "24b4e983-a5ae-4838-bfef-29dfc32aa9c2",
   "metadata": {},
   "outputs": [
    {
     "data": {
      "text/plain": [
       "array([0, 1, 4, 2])"
      ]
     },
     "execution_count": 151,
     "metadata": {},
     "output_type": "execute_result"
    }
   ],
   "source": [
    "a-1"
   ]
  },
  {
   "cell_type": "code",
   "execution_count": 153,
   "id": "03dd1f15-970e-4048-8230-370ebaf22c85",
   "metadata": {},
   "outputs": [
    {
     "data": {
      "text/plain": [
       "array([10, 20, 50, 30])"
      ]
     },
     "execution_count": 153,
     "metadata": {},
     "output_type": "execute_result"
    }
   ],
   "source": [
    "a*10"
   ]
  },
  {
   "cell_type": "code",
   "execution_count": 155,
   "id": "ca6f8d80-a91e-4b27-bbe7-1e9528fdcfb1",
   "metadata": {},
   "outputs": [
    {
     "data": {
      "text/plain": [
       "array([ 1,  4, 25,  9])"
      ]
     },
     "execution_count": 155,
     "metadata": {},
     "output_type": "execute_result"
    }
   ],
   "source": [
    "a**2"
   ]
  },
  {
   "cell_type": "code",
   "execution_count": 157,
   "id": "86d84b31-99a8-4b57-93f6-c2780a20d106",
   "metadata": {},
   "outputs": [],
   "source": [
    "a*=2 #modify existing array"
   ]
  },
  {
   "cell_type": "code",
   "execution_count": 159,
   "id": "d256c174-79ae-4150-8db9-d206d3119a1b",
   "metadata": {},
   "outputs": [
    {
     "data": {
      "text/plain": [
       "array([ 2,  4, 10,  6])"
      ]
     },
     "execution_count": 159,
     "metadata": {},
     "output_type": "execute_result"
    }
   ],
   "source": [
    "a"
   ]
  },
  {
   "cell_type": "code",
   "execution_count": 161,
   "id": "14e8a39c-4c35-4d2c-9129-6d7e91716918",
   "metadata": {},
   "outputs": [
    {
     "name": "stdout",
     "output_type": "stream",
     "text": [
      "\n",
      "Original array:\n",
      " [[1 2 3]\n",
      " [3 4 5]\n",
      " [9 6 0]]\n",
      "Transpose of array:\n",
      " [[1 3 9]\n",
      " [2 4 6]\n",
      " [3 5 0]]\n"
     ]
    }
   ],
   "source": [
    "#Transpose of array\n",
    "a = np.array([[1,2,3], [3,4,5], [9,6,0]])\n",
    "print(\"\\nOriginal array:\\n\", a)\n",
    "print(\"Transpose of array:\\n\", a.T)"
   ]
  },
  {
   "cell_type": "markdown",
   "id": "9918391c-41c7-47f6-84f3-5e8002cc48e1",
   "metadata": {},
   "source": [
    "# Unary Operators\n",
    "    -These are provided as a method of ndarray class. This includes sum, min, max, etc.\n",
    "    -These functions can also be applied row-wise and col-wise by setting an axis parameter.\n",
    "    -in 2D array axis = 0 is a column-wise parameter and axis = 1 is a row-wise parameter"
   ]
  },
  {
   "cell_type": "code",
   "execution_count": 164,
   "id": "a7f41a15-6850-4414-a850-0317157f504f",
   "metadata": {},
   "outputs": [],
   "source": [
    "arr = np.array([[1,5,6],\n",
    "               [4,7,2],\n",
    "               [3,1,9]])"
   ]
  },
  {
   "cell_type": "code",
   "execution_count": 166,
   "id": "f7d6e73c-d06c-44dc-baeb-8b1232a9e3b7",
   "metadata": {},
   "outputs": [
    {
     "data": {
      "text/plain": [
       "array([[1, 5, 6],\n",
       "       [4, 7, 2],\n",
       "       [3, 1, 9]])"
      ]
     },
     "execution_count": 166,
     "metadata": {},
     "output_type": "execute_result"
    }
   ],
   "source": [
    "arr"
   ]
  },
  {
   "cell_type": "code",
   "execution_count": 168,
   "id": "cffa764d-8557-4a81-be23-056e19067ac3",
   "metadata": {},
   "outputs": [
    {
     "data": {
      "text/plain": [
       "9"
      ]
     },
     "execution_count": 168,
     "metadata": {},
     "output_type": "execute_result"
    }
   ],
   "source": [
    "arr.max()"
   ]
  },
  {
   "cell_type": "code",
   "execution_count": 172,
   "id": "c454bbb5-2eb4-4e04-b3a8-1c2dea12a43d",
   "metadata": {},
   "outputs": [
    {
     "data": {
      "text/plain": [
       "array([6, 7, 9])"
      ]
     },
     "execution_count": 172,
     "metadata": {},
     "output_type": "execute_result"
    }
   ],
   "source": [
    "arr.max(axis = 1) #Row wise maximum elements"
   ]
  },
  {
   "cell_type": "code",
   "execution_count": 174,
   "id": "acc96f25-fb6e-4af4-b73e-933b8be45184",
   "metadata": {},
   "outputs": [
    {
     "data": {
      "text/plain": [
       "1"
      ]
     },
     "execution_count": 174,
     "metadata": {},
     "output_type": "execute_result"
    }
   ],
   "source": [
    "arr.min()"
   ]
  },
  {
   "cell_type": "code",
   "execution_count": 176,
   "id": "560c92b9-92fd-4622-9b5e-f06edb3a13ac",
   "metadata": {},
   "outputs": [
    {
     "data": {
      "text/plain": [
       "array([1, 1, 2])"
      ]
     },
     "execution_count": 176,
     "metadata": {},
     "output_type": "execute_result"
    }
   ],
   "source": [
    "arr.min(axis = 0) #Column wise minimum element"
   ]
  },
  {
   "cell_type": "code",
   "execution_count": 178,
   "id": "520f4dec-b0b3-4074-98e9-98591c66a94f",
   "metadata": {},
   "outputs": [
    {
     "data": {
      "text/plain": [
       "38"
      ]
     },
     "execution_count": 178,
     "metadata": {},
     "output_type": "execute_result"
    }
   ],
   "source": [
    "arr.sum()"
   ]
  },
  {
   "cell_type": "code",
   "execution_count": 181,
   "id": "8a3bdc22-dd56-468a-9fc3-eee6dd08dee3",
   "metadata": {},
   "outputs": [
    {
     "data": {
      "text/plain": [
       "array([[ 1,  6, 12],\n",
       "       [ 4, 11, 13],\n",
       "       [ 3,  4, 13]])"
      ]
     },
     "execution_count": 181,
     "metadata": {},
     "output_type": "execute_result"
    }
   ],
   "source": [
    "#cumulative sum along each row\n",
    "arr.cumsum(axis = 1)"
   ]
  },
  {
   "cell_type": "markdown",
   "id": "7bc82093-82cd-4cb0-963a-ce31583553b2",
   "metadata": {},
   "source": [
    "# Binary Operators"
   ]
  },
  {
   "cell_type": "code",
   "execution_count": 184,
   "id": "92b0a101-1b85-422f-b99f-f07648308a04",
   "metadata": {},
   "outputs": [],
   "source": [
    "a = np.array([[1,2],\n",
    "             [3,4]])\n",
    "b = np.array([[5,6],\n",
    "             [7,8]])"
   ]
  },
  {
   "cell_type": "code",
   "execution_count": 186,
   "id": "fff6b806-148d-458c-8ee2-7701f56d861c",
   "metadata": {},
   "outputs": [
    {
     "data": {
      "text/plain": [
       "array([[1, 2],\n",
       "       [3, 4]])"
      ]
     },
     "execution_count": 186,
     "metadata": {},
     "output_type": "execute_result"
    }
   ],
   "source": [
    "a"
   ]
  },
  {
   "cell_type": "code",
   "execution_count": 188,
   "id": "d239ccd9-c71e-4aa5-bfef-a3055f252a5a",
   "metadata": {},
   "outputs": [
    {
     "data": {
      "text/plain": [
       "array([[5, 6],\n",
       "       [7, 8]])"
      ]
     },
     "execution_count": 188,
     "metadata": {},
     "output_type": "execute_result"
    }
   ],
   "source": [
    "b"
   ]
  },
  {
   "cell_type": "code",
   "execution_count": 190,
   "id": "168936e5-3964-4609-a46c-13726f837e48",
   "metadata": {},
   "outputs": [
    {
     "data": {
      "text/plain": [
       "array([[ 6,  8],\n",
       "       [10, 12]])"
      ]
     },
     "execution_count": 190,
     "metadata": {},
     "output_type": "execute_result"
    }
   ],
   "source": [
    "a+b"
   ]
  },
  {
   "cell_type": "code",
   "execution_count": 192,
   "id": "8631bf76-23a3-4fc0-ab23-ef3c96671cb2",
   "metadata": {},
   "outputs": [
    {
     "data": {
      "text/plain": [
       "array([[ 5, 12],\n",
       "       [21, 32]])"
      ]
     },
     "execution_count": 192,
     "metadata": {},
     "output_type": "execute_result"
    }
   ],
   "source": [
    "a*b # cartesian product"
   ]
  },
  {
   "cell_type": "code",
   "execution_count": 194,
   "id": "7f76c605-a99d-4174-9bbe-a2f94f7c9ec3",
   "metadata": {},
   "outputs": [
    {
     "data": {
      "text/plain": [
       "array([[19, 22],\n",
       "       [43, 50]])"
      ]
     },
     "execution_count": 194,
     "metadata": {},
     "output_type": "execute_result"
    }
   ],
   "source": [
    "#matrix multiplication\n",
    "a.dot(b)"
   ]
  },
  {
   "cell_type": "code",
   "execution_count": 196,
   "id": "f1a6d24c-ee8a-4748-a28f-72de35159561",
   "metadata": {},
   "outputs": [],
   "source": [
    "# all these can also be done using np.add, np.subtract, np.multiply, np.divide, np.sum, etc : these are Universal functions (ufunc)"
   ]
  },
  {
   "cell_type": "code",
   "execution_count": 198,
   "id": "27c86ef6-cbb5-479b-815b-fca1bf812be2",
   "metadata": {},
   "outputs": [
    {
     "name": "stdout",
     "output_type": "stream",
     "text": [
      "[0.0000000e+00 1.0000000e+00 1.2246468e-16]\n"
     ]
    }
   ],
   "source": [
    "# create an array of sine values\n",
    "a = np.array([0, np.pi/2, np.pi])\n",
    "print(np.sin(a))"
   ]
  },
  {
   "cell_type": "code",
   "execution_count": 200,
   "id": "fecd3fe3-1e58-4154-8047-1b12bd4eccb2",
   "metadata": {},
   "outputs": [],
   "source": [
    "#exponential values\n",
    "b = np.array([0,1,2,3])"
   ]
  },
  {
   "cell_type": "code",
   "execution_count": 202,
   "id": "d1806a6d-7793-497f-b2af-e468ef5255ec",
   "metadata": {},
   "outputs": [
    {
     "data": {
      "text/plain": [
       "array([0, 1, 2, 3])"
      ]
     },
     "execution_count": 202,
     "metadata": {},
     "output_type": "execute_result"
    }
   ],
   "source": [
    "b"
   ]
  },
  {
   "cell_type": "code",
   "execution_count": 206,
   "id": "a6cd71f6-8951-4178-b3e2-4f2fd574c6be",
   "metadata": {},
   "outputs": [
    {
     "data": {
      "text/plain": [
       "array([ 1.        ,  2.71828183,  7.3890561 , 20.08553692])"
      ]
     },
     "execution_count": 206,
     "metadata": {},
     "output_type": "execute_result"
    }
   ],
   "source": [
    "np.exp(b) #e^num"
   ]
  },
  {
   "cell_type": "code",
   "execution_count": 210,
   "id": "f2cad1e3-1d1c-470e-b14d-eba73ba203b0",
   "metadata": {},
   "outputs": [
    {
     "data": {
      "text/plain": [
       "array([0.        , 1.        , 1.41421356, 1.73205081])"
      ]
     },
     "execution_count": 210,
     "metadata": {},
     "output_type": "execute_result"
    }
   ],
   "source": [
    "#square root of array values\n",
    "np.sqrt(b)"
   ]
  },
  {
   "cell_type": "markdown",
   "id": "b10e8283-8be4-4b98-ad82-99fa45ea5d6b",
   "metadata": {},
   "source": [
    "# Sorting array"
   ]
  },
  {
   "cell_type": "code",
   "execution_count": 221,
   "id": "be1d7d4d-b5b8-4025-8c55-7f6da0fbdf7e",
   "metadata": {},
   "outputs": [],
   "source": [
    "a = np.array([[1, 4, 2],\n",
    "             [3, 4, 6],\n",
    "             [0, -1, 5]])"
   ]
  },
  {
   "cell_type": "code",
   "execution_count": 223,
   "id": "e0a48c55-1fb4-4747-a523-289d140bbe3e",
   "metadata": {},
   "outputs": [
    {
     "data": {
      "text/plain": [
       "array([[ 1,  4,  2],\n",
       "       [ 3,  4,  6],\n",
       "       [ 0, -1,  5]])"
      ]
     },
     "execution_count": 223,
     "metadata": {},
     "output_type": "execute_result"
    }
   ],
   "source": [
    "a"
   ]
  },
  {
   "cell_type": "code",
   "execution_count": 225,
   "id": "10bd26a6-974a-4622-9580-57570156a9fe",
   "metadata": {},
   "outputs": [
    {
     "data": {
      "text/plain": [
       "array([[ 1,  2,  4],\n",
       "       [ 3,  4,  6],\n",
       "       [-1,  0,  5]])"
      ]
     },
     "execution_count": 225,
     "metadata": {},
     "output_type": "execute_result"
    }
   ],
   "source": [
    "#sorted array\n",
    "np.sort(a, axis = 1) # row wise"
   ]
  },
  {
   "cell_type": "code",
   "execution_count": 227,
   "id": "d700d822-355a-49e1-a96b-96df1a935d65",
   "metadata": {},
   "outputs": [
    {
     "data": {
      "text/plain": [
       "array([-1,  0,  1,  2,  3,  4,  4,  5,  6])"
      ]
     },
     "execution_count": 227,
     "metadata": {},
     "output_type": "execute_result"
    }
   ],
   "source": [
    "np.sort(a, axis = None)"
   ]
  },
  {
   "cell_type": "code",
   "execution_count": 229,
   "id": "bbabe9fe-8920-489b-bf15-e6f6cb28dc74",
   "metadata": {},
   "outputs": [
    {
     "data": {
      "text/plain": [
       "array([[ 0, -1,  2],\n",
       "       [ 1,  4,  5],\n",
       "       [ 3,  4,  6]])"
      ]
     },
     "execution_count": 229,
     "metadata": {},
     "output_type": "execute_result"
    }
   ],
   "source": [
    "# specify sort algorithms\n",
    "np.sort(a, axis = 0, kind = 'mergesort')"
   ]
  },
  {
   "cell_type": "code",
   "execution_count": 245,
   "id": "afeca15a-87b2-46ad-8111-c7c9f7b983fe",
   "metadata": {},
   "outputs": [],
   "source": [
    "# sorting of structured array\n",
    "##set alias for dtypes\n",
    "dtypes = [('name', 'S10'), ('grad_year', int), ('cgpa', float)]\n",
    "## values to be put in array\n",
    "values = [('Ramya', 2025, 8.5 ), ('Richa', 2027, 8.4), ('Rashika', 2024, 8.2)]\n",
    "\n",
    "##creating array\n",
    "arr = np.array(values, dtype = dtypes)"
   ]
  },
  {
   "cell_type": "code",
   "execution_count": 239,
   "id": "75081058-5f92-4a30-9eb7-f1425686a2cf",
   "metadata": {},
   "outputs": [
    {
     "data": {
      "text/plain": [
       "array([(b'Ramya', 2026, 8.5), (b'Richa', 2026, 8.4),\n",
       "       (b'Rashika', 2026, 8.2)],\n",
       "      dtype=[('name', 'S10'), ('grad_year', '<i4'), ('cgpa', '<f8')])"
      ]
     },
     "execution_count": 239,
     "metadata": {},
     "output_type": "execute_result"
    }
   ],
   "source": [
    "arr"
   ]
  },
  {
   "cell_type": "code",
   "execution_count": 241,
   "id": "d76c0e3b-b2f4-43be-b632-6340f85b72e4",
   "metadata": {},
   "outputs": [
    {
     "data": {
      "text/plain": [
       "array([(b'Ramya', 2026, 8.5), (b'Rashika', 2026, 8.2),\n",
       "       (b'Richa', 2026, 8.4)],\n",
       "      dtype=[('name', 'S10'), ('grad_year', '<i4'), ('cgpa', '<f8')])"
      ]
     },
     "execution_count": 241,
     "metadata": {},
     "output_type": "execute_result"
    }
   ],
   "source": [
    "np.sort(arr, order = 'name')"
   ]
  },
  {
   "cell_type": "code",
   "execution_count": 247,
   "id": "fa748305-562d-4637-a8fc-817d8ecd4a6d",
   "metadata": {},
   "outputs": [
    {
     "data": {
      "text/plain": [
       "array([(b'Rashika', 2024, 8.2), (b'Ramya', 2025, 8.5),\n",
       "       (b'Richa', 2027, 8.4)],\n",
       "      dtype=[('name', 'S10'), ('grad_year', '<i4'), ('cgpa', '<f8')])"
      ]
     },
     "execution_count": 247,
     "metadata": {},
     "output_type": "execute_result"
    }
   ],
   "source": [
    "np.sort(arr, order = ['grad_year', 'cgpa']) #grad year will first be considered, if same then cgpa will be looked into"
   ]
  },
  {
   "cell_type": "markdown",
   "id": "529f0bfe-e09e-4859-8516-63200088e838",
   "metadata": {},
   "source": [
    "# Stacking and Splitting\n",
    "## Several arrays can be stacked together along different axes.\n",
    "\n",
    "- **np.vstack**: To stack along vertical axis\n",
    "- **np.hstack**: To stack along horizontal axis\n",
    "- **np.column_stack**: To stack 1-D array as columns into 2-D arrays.\n",
    "- **np.concatenate**: To stack arrays along specified axis( axis is passed as parameter)\n"
   ]
  },
  {
   "cell_type": "code",
   "execution_count": 252,
   "id": "1f4a0a61-504d-4f14-b6fd-a122dc35d6b5",
   "metadata": {},
   "outputs": [],
   "source": [
    "a = np.array([[1,2],\n",
    "             [3,4]])"
   ]
  },
  {
   "cell_type": "code",
   "execution_count": 254,
   "id": "ff7ae06a-c6c2-4a10-aa98-81747a98beba",
   "metadata": {},
   "outputs": [
    {
     "data": {
      "text/plain": [
       "array([[1, 2],\n",
       "       [3, 4]])"
      ]
     },
     "execution_count": 254,
     "metadata": {},
     "output_type": "execute_result"
    }
   ],
   "source": [
    "a"
   ]
  },
  {
   "cell_type": "code",
   "execution_count": 256,
   "id": "c8c18559-4650-4a23-8d24-abef40268ae6",
   "metadata": {},
   "outputs": [],
   "source": [
    "b = np.array([[5,6],\n",
    "             [7,8]])"
   ]
  },
  {
   "cell_type": "code",
   "execution_count": 257,
   "id": "86d2e975-05c7-4ac7-9d54-67917a7b9e8a",
   "metadata": {},
   "outputs": [
    {
     "data": {
      "text/plain": [
       "array([[5, 6],\n",
       "       [7, 8]])"
      ]
     },
     "execution_count": 257,
     "metadata": {},
     "output_type": "execute_result"
    }
   ],
   "source": [
    "b"
   ]
  },
  {
   "cell_type": "code",
   "execution_count": 262,
   "id": "5a45f80f-e1d3-4fe1-9cc4-fceeac44f372",
   "metadata": {},
   "outputs": [
    {
     "data": {
      "text/plain": [
       "array([[1, 2],\n",
       "       [3, 4],\n",
       "       [5, 6],\n",
       "       [7, 8]])"
      ]
     },
     "execution_count": 262,
     "metadata": {},
     "output_type": "execute_result"
    }
   ],
   "source": [
    "#vertical stacking\n",
    "np.vstack((a,b))"
   ]
  },
  {
   "cell_type": "code",
   "execution_count": 264,
   "id": "3f500780-7ce1-4261-9390-69aacb33c114",
   "metadata": {},
   "outputs": [
    {
     "data": {
      "text/plain": [
       "array([[1, 2, 5, 6],\n",
       "       [3, 4, 7, 8]])"
      ]
     },
     "execution_count": 264,
     "metadata": {},
     "output_type": "execute_result"
    }
   ],
   "source": [
    "np.hstack((a,b))"
   ]
  },
  {
   "cell_type": "code",
   "execution_count": 266,
   "id": "8c83168e-0c13-40d7-9d0d-6a6a34b96831",
   "metadata": {},
   "outputs": [],
   "source": [
    "c = [5,6]"
   ]
  },
  {
   "cell_type": "code",
   "execution_count": 268,
   "id": "db8b96ea-ccad-4c6f-9cb5-01ca497c21c8",
   "metadata": {},
   "outputs": [
    {
     "data": {
      "text/plain": [
       "array([[1, 2, 5],\n",
       "       [3, 4, 6]])"
      ]
     },
     "execution_count": 268,
     "metadata": {},
     "output_type": "execute_result"
    }
   ],
   "source": [
    "#stacking columns\n",
    "np.column_stack((a,c))"
   ]
  },
  {
   "cell_type": "code",
   "execution_count": 273,
   "id": "54612fa4-392a-4ed9-bb9f-8e9ecfa73b46",
   "metadata": {},
   "outputs": [
    {
     "data": {
      "text/plain": [
       "array([[1, 2, 5, 6],\n",
       "       [3, 4, 7, 8]])"
      ]
     },
     "execution_count": 273,
     "metadata": {},
     "output_type": "execute_result"
    }
   ],
   "source": [
    "#concatenation method\n",
    "np.concatenate((a,b), 1) #row wise concatenate"
   ]
  },
  {
   "cell_type": "markdown",
   "id": "ccb55a0d-6f2a-463c-8f59-5fb42f9803b6",
   "metadata": {},
   "source": [
    "## For splitting we have these functions: Split arrays into more arrays\n",
    "- **np.hsplit**: Split array along horizontal axis\n",
    "- **np.vsplit**: Split array along vertical axis\n",
    "- **np.array_split**: Split array along specified axis"
   ]
  },
  {
   "cell_type": "code",
   "execution_count": 279,
   "id": "631034a7-447e-42d4-8e90-00b2dcb619a2",
   "metadata": {},
   "outputs": [],
   "source": [
    "a = np.array([[1, 3, 5 ,7 ,9 ,11],\n",
    "             [2, 4, 6, 8, 10, 12]])\n"
   ]
  },
  {
   "cell_type": "code",
   "execution_count": 280,
   "id": "f2bd68d8-2d50-41b8-847d-a681ad4c3a53",
   "metadata": {},
   "outputs": [
    {
     "data": {
      "text/plain": [
       "array([[ 1,  3,  5,  7,  9, 11],\n",
       "       [ 2,  4,  6,  8, 10, 12]])"
      ]
     },
     "execution_count": 280,
     "metadata": {},
     "output_type": "execute_result"
    }
   ],
   "source": [
    "a"
   ]
  },
  {
   "cell_type": "code",
   "execution_count": 283,
   "id": "f1d5c49b-6429-4051-a5e8-d34a86a85058",
   "metadata": {},
   "outputs": [
    {
     "data": {
      "text/plain": [
       "[array([[1, 3, 5],\n",
       "        [2, 4, 6]]),\n",
       " array([[ 7,  9, 11],\n",
       "        [ 8, 10, 12]])]"
      ]
     },
     "execution_count": 283,
     "metadata": {},
     "output_type": "execute_result"
    }
   ],
   "source": [
    "np.hsplit(a, 2)"
   ]
  },
  {
   "cell_type": "code",
   "execution_count": 285,
   "id": "f51b922b-5713-4013-a1c4-913ab42d9b17",
   "metadata": {},
   "outputs": [
    {
     "data": {
      "text/plain": [
       "[array([[ 1,  3,  5,  7,  9, 11]]), array([[ 2,  4,  6,  8, 10, 12]])]"
      ]
     },
     "execution_count": 285,
     "metadata": {},
     "output_type": "execute_result"
    }
   ],
   "source": [
    "np.vsplit(a, 2)"
   ]
  },
  {
   "cell_type": "markdown",
   "id": "c13a8224-7090-45f7-9e39-90c9a228d478",
   "metadata": {},
   "source": [
    "# Statistical Functions\n",
    "- **min , max**\n",
    "- **mean**\n",
    "- **median**\n",
    "- **average**\n",
    "- **variance**\n",
    "- **standard deviation**"
   ]
  },
  {
   "cell_type": "code",
   "execution_count": 289,
   "id": "e5e1cb15-28dc-4600-b000-1ba0378e3e98",
   "metadata": {},
   "outputs": [],
   "source": [
    "a = np.array([[1,2,3,4], [7,6,2,0]])"
   ]
  },
  {
   "cell_type": "code",
   "execution_count": 291,
   "id": "fd4c512b-9e0c-403e-88f0-6d6ef8ad94b4",
   "metadata": {},
   "outputs": [
    {
     "data": {
      "text/plain": [
       "array([[1, 2, 3, 4],\n",
       "       [7, 6, 2, 0]])"
      ]
     },
     "execution_count": 291,
     "metadata": {},
     "output_type": "execute_result"
    }
   ],
   "source": [
    "a"
   ]
  },
  {
   "cell_type": "code",
   "execution_count": 293,
   "id": "255b50f9-77ef-4b3d-a627-92b06fd3df66",
   "metadata": {},
   "outputs": [
    {
     "data": {
      "text/plain": [
       "0"
      ]
     },
     "execution_count": 293,
     "metadata": {},
     "output_type": "execute_result"
    }
   ],
   "source": [
    "np.min(a)"
   ]
  },
  {
   "cell_type": "code",
   "execution_count": 295,
   "id": "aa3cf3fe-bb2c-49b4-8c91-19753e55b0cd",
   "metadata": {},
   "outputs": [
    {
     "data": {
      "text/plain": [
       "array([1, 2, 2, 0])"
      ]
     },
     "execution_count": 295,
     "metadata": {},
     "output_type": "execute_result"
    }
   ],
   "source": [
    "np.min(a, axis = 0)"
   ]
  },
  {
   "cell_type": "code",
   "execution_count": 297,
   "id": "28f8acc0-e309-4e98-810d-c5a10fce7aa5",
   "metadata": {},
   "outputs": [
    {
     "data": {
      "text/plain": [
       "array([1, 0])"
      ]
     },
     "execution_count": 297,
     "metadata": {},
     "output_type": "execute_result"
    }
   ],
   "source": [
    "np.min(a, axis = 1)"
   ]
  },
  {
   "cell_type": "code",
   "execution_count": 299,
   "id": "d16db35b-d760-4307-888d-20c6a68529e0",
   "metadata": {},
   "outputs": [],
   "source": [
    "c = np.array([1,5,4,2,0])"
   ]
  },
  {
   "cell_type": "code",
   "execution_count": 301,
   "id": "7ea3115d-680f-43f0-9ed4-7ee35d5abb02",
   "metadata": {},
   "outputs": [
    {
     "data": {
      "text/plain": [
       "array([1, 5, 4, 2, 0])"
      ]
     },
     "execution_count": 301,
     "metadata": {},
     "output_type": "execute_result"
    }
   ],
   "source": [
    "c"
   ]
  },
  {
   "cell_type": "code",
   "execution_count": 303,
   "id": "15ec9c99-2090-4e8b-aa1c-f5bc7f08628e",
   "metadata": {},
   "outputs": [
    {
     "data": {
      "text/plain": [
       "2.0"
      ]
     },
     "execution_count": 303,
     "metadata": {},
     "output_type": "execute_result"
    }
   ],
   "source": [
    "np.median(c) #median is the mid point of the array after sorting it so sorted array will be : 0 , 1, 2, 4, 5"
   ]
  },
  {
   "cell_type": "code",
   "execution_count": 305,
   "id": "cdbd5750-281e-42e8-9994-0794f286bf70",
   "metadata": {},
   "outputs": [
    {
     "data": {
      "text/plain": [
       "3.5"
      ]
     },
     "execution_count": 305,
     "metadata": {},
     "output_type": "execute_result"
    }
   ],
   "source": [
    "#if there are two median values sum them and divide by 2\n",
    "b = np.array([1,2,3,4,5,6])\n",
    "np.median(b) ## 3+4/2"
   ]
  },
  {
   "cell_type": "code",
   "execution_count": 307,
   "id": "2d7db7ab-5f65-48aa-9d7e-d2d1509d2dee",
   "metadata": {},
   "outputs": [
    {
     "data": {
      "text/plain": [
       "2.4"
      ]
     },
     "execution_count": 307,
     "metadata": {},
     "output_type": "execute_result"
    }
   ],
   "source": [
    "np.mean(c) ##average sum : 12/5"
   ]
  },
  {
   "cell_type": "code",
   "execution_count": 313,
   "id": "b93eddaa-8446-4eca-a94b-048e196ff5a5",
   "metadata": {},
   "outputs": [
    {
     "data": {
      "text/plain": [
       "2.4"
      ]
     },
     "execution_count": 313,
     "metadata": {},
     "output_type": "execute_result"
    }
   ],
   "source": [
    "#weights\n",
    "w = np.array([1,1,1,1,1])\n",
    "np.average(c, weights=w) #weighted mean = n1*w1 + n2*w2..../n1+n2....."
   ]
  },
  {
   "cell_type": "code",
   "execution_count": 319,
   "id": "f3ab5a13-0159-4a25-ab87-63ff4cf1fe8d",
   "metadata": {},
   "outputs": [
    {
     "name": "stdout",
     "output_type": "stream",
     "text": [
      "1.854723699099141\n"
     ]
    }
   ],
   "source": [
    "#Standard Deviation \n",
    "'''\n",
    "Standard deviation is a number that describes how spread out the values are.\n",
    "\n",
    "A low standard deviation means that most of the numbers are close to the mean (average) value.\n",
    "\n",
    "A high standard deviation means that the values are spread out over a wider range.'''\n",
    "mystd = np.std(c) \n",
    "print(mystd)"
   ]
  },
  {
   "cell_type": "code",
   "execution_count": 321,
   "id": "bfd78ab0-6696-4f2e-b01f-1f2b459428af",
   "metadata": {},
   "outputs": [
    {
     "name": "stdout",
     "output_type": "stream",
     "text": [
      "3.4400000000000004\n",
      "3.440000000000001\n"
     ]
    }
   ],
   "source": [
    "# Variance \n",
    "'''Variance is another number that indicates how spread out the values are.\n",
    "\n",
    "In fact, if you take the square root of the variance, you get the standard deviation!\n",
    "\n",
    "Or the other way around, if you multiply the standard deviation by itself, you get the variance!'''\n",
    "\n",
    "print(np.var(c))\n",
    "print(mystd**2)"
   ]
  },
  {
   "cell_type": "markdown",
   "id": "f98daedf-1d34-4bda-991b-e34d461ec421",
   "metadata": {},
   "source": [
    "# Numpy Random Module\n",
    "- **rand**: Random values in a given shape.\n",
    "- **randn**: Return a sample (or samples) from the \"standard normal\" distribution.\n",
    "- **randint**: Return a random integers from low(inclusive) to high(exclusive).\n",
    "- **random**: Return random floats in the hald-open interval(0.0, 1.0)\n",
    "- **choice**: Generates a random sample from a given 1-D array\n",
    "- **shuffle**: Shuffles the contents of a sequence"
   ]
  },
  {
   "cell_type": "code",
   "execution_count": 344,
   "id": "a4a9b9d9-1beb-4156-9666-090b6cf610fe",
   "metadata": {},
   "outputs": [],
   "source": [
    "a = np.arange(10) + 5"
   ]
  },
  {
   "cell_type": "code",
   "execution_count": 346,
   "id": "0f4ee6ce-9b78-4eee-81d6-26a11eb798ee",
   "metadata": {},
   "outputs": [
    {
     "data": {
      "text/plain": [
       "array([ 5,  6,  7,  8,  9, 10, 11, 12, 13, 14])"
      ]
     },
     "execution_count": 346,
     "metadata": {},
     "output_type": "execute_result"
    }
   ],
   "source": [
    "a"
   ]
  },
  {
   "cell_type": "code",
   "execution_count": 348,
   "id": "05343d80-f5c2-48cf-8ca5-5efd40d9ee09",
   "metadata": {},
   "outputs": [],
   "source": [
    "np.random.shuffle(a)"
   ]
  },
  {
   "cell_type": "code",
   "execution_count": 350,
   "id": "97f5a552-0ebc-4770-80b4-616c04156f5d",
   "metadata": {},
   "outputs": [
    {
     "data": {
      "text/plain": [
       "array([14, 10,  8,  5, 13,  9,  7,  6, 11, 12])"
      ]
     },
     "execution_count": 350,
     "metadata": {},
     "output_type": "execute_result"
    }
   ],
   "source": [
    "a"
   ]
  },
  {
   "cell_type": "code",
   "execution_count": 352,
   "id": "9f9cad5b-bc6e-41df-9ca3-a1bcc0c2aa25",
   "metadata": {},
   "outputs": [
    {
     "data": {
      "text/plain": [
       "array([[ 0.19664341, -1.54521415, -0.08810409],\n",
       "       [ 0.85223932,  0.67723401, -0.10687843]])"
      ]
     },
     "execution_count": 352,
     "metadata": {},
     "output_type": "execute_result"
    }
   ],
   "source": [
    "np.random.randn(2,3)"
   ]
  },
  {
   "cell_type": "code",
   "execution_count": 354,
   "id": "68f7c442-12d1-40e9-8d3f-a6fc7a5f2164",
   "metadata": {},
   "outputs": [
    {
     "data": {
      "text/plain": [
       "array([6, 6, 6])"
      ]
     },
     "execution_count": 354,
     "metadata": {},
     "output_type": "execute_result"
    }
   ],
   "source": [
    "np.random.randint(5,10,3)"
   ]
  },
  {
   "cell_type": "code",
   "execution_count": 360,
   "id": "313bb24a-960a-4baf-90c1-1fe8dad305f5",
   "metadata": {},
   "outputs": [
    {
     "data": {
      "text/plain": [
       "11"
      ]
     },
     "execution_count": 360,
     "metadata": {},
     "output_type": "execute_result"
    }
   ],
   "source": [
    "np.random.choice([1,4,3,2,11,27])"
   ]
  },
  {
   "cell_type": "code",
   "execution_count": 366,
   "id": "186abecd-e338-4e43-9e1b-7dabebde3889",
   "metadata": {},
   "outputs": [
    {
     "data": {
      "text/plain": [
       "array([[[[0.82914691, 0.82960336, 0.27304997, 0.0592432 , 0.67052804],\n",
       "         [0.59306552, 0.6716541 , 0.41178788, 0.1975509 , 0.28962964],\n",
       "         [0.14212014, 0.78331447, 0.41253884, 0.03417131, 0.62402999],\n",
       "         [0.66063573, 0.29849529, 0.44613451, 0.22212455, 0.07336417]],\n",
       "\n",
       "        [[0.46923853, 0.09617226, 0.90337017, 0.11949047, 0.52479938],\n",
       "         [0.083623  , 0.91686133, 0.91044838, 0.29893011, 0.58438912],\n",
       "         [0.56591203, 0.61393832, 0.95653566, 0.26097898, 0.23101542],\n",
       "         [0.53344849, 0.94993814, 0.49305959, 0.54060051, 0.7654851 ]],\n",
       "\n",
       "        [[0.04534573, 0.13996612, 0.79240359, 0.02980136, 0.88312548],\n",
       "         [0.54078819, 0.44798018, 0.89213587, 0.37758434, 0.53842469],\n",
       "         [0.65229888, 0.36126102, 0.57100856, 0.63783648, 0.12631489],\n",
       "         [0.69020459, 0.6477494 , 0.35393909, 0.76323305, 0.35653172]]],\n",
       "\n",
       "\n",
       "       [[[0.75278835, 0.88134183, 0.01166919, 0.49810907, 0.07379201],\n",
       "         [0.78695147, 0.06406733, 0.35531036, 0.94183695, 0.37980329],\n",
       "         [0.76292007, 0.771595  , 0.3013605 , 0.77273915, 0.15292982],\n",
       "         [0.57863393, 0.009008  , 0.70904252, 0.47064081, 0.76459257]],\n",
       "\n",
       "        [[0.46739268, 0.26900105, 0.83169259, 0.55132494, 0.0700815 ],\n",
       "         [0.47247504, 0.74276483, 0.19195608, 0.4643115 , 0.23036281],\n",
       "         [0.50824754, 0.20856831, 0.04930424, 0.51886188, 0.17227835],\n",
       "         [0.39631329, 0.1073653 , 0.50981028, 0.10213523, 0.28871783]],\n",
       "\n",
       "        [[0.23175846, 0.96766793, 0.27831884, 0.23362252, 0.09155644],\n",
       "         [0.57006666, 0.41792654, 0.36784324, 0.81299497, 0.28976   ],\n",
       "         [0.7173916 , 0.61294809, 0.42690983, 0.75187297, 0.42781263],\n",
       "         [0.42838241, 0.36190444, 0.15333848, 0.93719032, 0.91640987]]]])"
      ]
     },
     "execution_count": 366,
     "metadata": {},
     "output_type": "execute_result"
    }
   ],
   "source": [
    "np.random.rand(2,3,4,5)"
   ]
  },
  {
   "cell_type": "code",
   "execution_count": null,
   "id": "f574a1bd-0925-44c3-b35e-56e192e5a45a",
   "metadata": {},
   "outputs": [],
   "source": []
  }
 ],
 "metadata": {
  "kernelspec": {
   "display_name": "Python 3 (ipykernel)",
   "language": "python",
   "name": "python3"
  },
  "language_info": {
   "codemirror_mode": {
    "name": "ipython",
    "version": 3
   },
   "file_extension": ".py",
   "mimetype": "text/x-python",
   "name": "python",
   "nbconvert_exporter": "python",
   "pygments_lexer": "ipython3",
   "version": "3.12.4"
  }
 },
 "nbformat": 4,
 "nbformat_minor": 5
}
